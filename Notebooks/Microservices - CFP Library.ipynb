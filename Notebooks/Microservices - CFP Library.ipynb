{
  "cells": [
    {
      "cell_type": "markdown",
      "metadata": {
        "nteract": {
          "transient": {
            "deleting": false
          }
        }
      },
      "source": "# Change Feed Processor (CFP) Library"
    },
    {
      "cell_type": "markdown",
      "metadata": {
        "nteract": {
          "transient": {
            "deleting": false
          }
        }
      },
      "source": "Create the `acme-webstore` database with two containers:\n<br><br>\n`cart`\n\nThis is our shopping cart container. It is partitioned on *cartId* to ensure changes on a given cart are always processed in the order that the occurred.\n<br><br>\n`lease`\n\nThis is the lease container for the CFP Library to persist bookmarks for processing the change feed. It is partitioned on *id* to keep each lease document in separate logical partitions."
    },
    {
      "cell_type": "code",
      "execution_count": 3,
      "metadata": {
        "collapsed": false,
        "execution": {
          "iopub.execute_input": "2020-06-12T20:45:09.521Z",
          "iopub.status.busy": "2020-06-12T20:45:09.498Z",
          "iopub.status.idle": "2020-06-12T20:45:11.027Z",
          "shell.execute_reply": "2020-06-12T20:45:11.045Z"
        },
        "jupyter": {
          "outputs_hidden": false,
          "source_hidden": false
        },
        "nteract": {
          "transient": {
            "deleting": false
          }
        },
        "trusted": true
      },
      "outputs": [
        {
          "name": "stdout",
          "output_type": "stream",
          "text": "Created database\nCreated cart container\nCreated lease container\n"
        }
      ],
      "source": "import azure.cosmos\nfrom azure.cosmos import PartitionKey\n\n# Delete the database if it already exists\ntry:\n    cosmos_client.delete_database('acme-webstore')\nexcept azure.cosmos.errors.CosmosHttpResponseError as e:\n    if e.status_code != 404:\n        raise\n\n# Create the database\ndatabase = cosmos_client.create_database('acme-webstore')\nprint('Created database')\n\n# Create the cart container\ncartContainer = database.create_container('cart', PartitionKey(path=\"/cartId\"), default_ttl=-1)\nprint('Created cart container')\n\n# Create the lease container\nleaseContainer = database.create_container('lease', PartitionKey(path=\"/id\"))\nprint('Created lease container')"
    },
    {
      "cell_type": "code",
      "execution_count": 4,
      "metadata": {
        "collapsed": false,
        "execution": {
          "iopub.execute_input": "2020-06-12T20:45:26.562Z",
          "iopub.status.busy": "2020-06-12T20:45:26.542Z",
          "iopub.status.idle": "2020-06-12T20:45:26.587Z",
          "shell.execute_reply": "2020-06-12T20:45:26.597Z"
        },
        "jupyter": {
          "outputs_hidden": false,
          "source_hidden": false
        },
        "nteract": {
          "transient": {
            "deleting": false
          }
        },
        "trusted": true
      },
      "outputs": [
        {
          "name": "stdout",
          "output_type": "stream",
          "text": "Created first cart document\n"
        }
      ],
      "source": "import uuid\n\n# Add a new cart document\nfirstCartDocument = {\n    \"id\": str(uuid.uuid4()),\n    \"cartId\": \"123\",\n    \"item\": \"Surface Pro\",\n    \"quantity\": 2\n}\ncartContainer.create_item(body=firstCartDocument)\nprint('Created first cart document')"
    },
    {
      "cell_type": "code",
      "execution_count": 5,
      "metadata": {
        "collapsed": false,
        "execution": {
          "iopub.execute_input": "2020-06-12T20:45:28.745Z",
          "iopub.status.busy": "2020-06-12T20:45:28.667Z",
          "iopub.status.idle": "2020-06-12T20:45:28.819Z",
          "shell.execute_reply": "2020-06-12T20:45:28.809Z"
        },
        "jupyter": {
          "outputs_hidden": false,
          "source_hidden": false
        },
        "nteract": {
          "transient": {
            "deleting": false
          }
        },
        "trusted": true
      },
      "outputs": [
        {
          "data": {
            "text/html": "\r\n<div>\r\n  <style type='text/css' scoped>\r\n.collapsible {\r\n  background-color: #fff;\r\n  color: #0078D4;\r\n  cursor: pointer;\r\n  padding: 10px;\r\n  border: none;\r\n  text-align: left;\r\n  outline: none;\r\n  font-size: 15px;\r\n  border-radius: 5px;\r\n  margin: 5px\r\n}\r\n\r\n.active, .collapsible:hover {\r\n  color: #4db2ff;\r\n}\r\n\r\n.content {\r\n  margin: 2px;\r\n  padding: 0 18px;\r\n  overflow: hidden;\r\n  background-color: #fff;\r\n  height: 0px;\r\n  -moz-transition: height .2s ease-out;\r\n  -ms-transition: height .2s ease-out;\r\n  -o-transition: height .2s ease-out;\r\n  -webkit-transition: height .2s ease-out;\r\n  transition: height .2s ease-out;\r\n}\r\n</style>\r\n\r\n<button type='button' class='collapsible'>▶ View Query Metrics</button>\r\n  \r\n<div class='content'>\r\n  <div class='measuringWrapper'>\r\n    <span style=\"color:#0078D4\"><b>totalExecutionTimeInMs    </b>:    0.43<br/><b>queryCompileTimeInMs    </b>:    0.14<br/><b>queryLogicalPlanBuildTimeInMs    </b>:    0.03<br/><b>queryPhysicalPlanBuildTimeInMs    </b>:    0.02<br/><b>queryOptimizationTimeInMs    </b>:    0<br/><b>VMExecutionTimeInMs    </b>:    0.05<br/><b>indexLookupTimeInMs    </b>:    0<br/><b>documentLoadTimeInMs    </b>:    0.03<br/><b>systemFunctionExecuteTimeInMs    </b>:    0<br/><b>userFunctionExecuteTimeInMs    </b>:    0<br/><b>retrievedDocumentCount    </b>:    1<br/><b>retrievedDocumentSize    </b>:    306<br/><b>outputDocumentCount    </b>:    1<br/><b>outputDocumentSize    </b>:    143<br/><b>writeOutputTimeInMs    </b>:    0<br/><b>averageIndexUtilizationRation    </b>:    1<br/></span>\r\n  </div>\r\n</div>\r\n\r\n<script>\r\nvar coll = document.getElementsByClassName('collapsible');\r\nvar i;\r\n\r\nfor (i = 0; i < coll.length; i++) {\r\n  \r\n  coll[i].addEventListener('click', function() {\r\n    this.classList.toggle('active');\r\n    var content = this.nextElementSibling;\r\n    \r\n    if (content.clientHeight != 0) {\r\n      this.textContent = '▶ View Query Metrics';\r\n      content.style.height = '0px';\r\n    }\r\n    else {\r\n      this.textContent = '▼ Hide Query Metrics';\r\n      content.style.height = content.children[0].clientHeight + 'px';\r\n    }\r\n  });\r\n}\r\n</script>\r\n</div>"
          },
          "metadata": {},
          "output_type": "display_data"
        },
        {
          "data": {
            "text/html": "<div>\n<style scoped>\n    .dataframe tbody tr th:only-of-type {\n        vertical-align: middle;\n    }\n\n    .dataframe tbody tr th {\n        vertical-align: top;\n    }\n\n    .dataframe thead th {\n        text-align: right;\n    }\n</style>\n<table border=\"1\" class=\"dataframe\">\n  <thead>\n    <tr style=\"text-align: right;\">\n      <th></th>\n      <th>id</th>\n      <th>cartId</th>\n      <th>item</th>\n      <th>quantity</th>\n    </tr>\n  </thead>\n  <tbody>\n    <tr>\n      <th>0</th>\n      <td>3d05e16e-c764-45e2-8fa1-1afab155d978</td>\n      <td>123</td>\n      <td>Surface Pro</td>\n      <td>2</td>\n    </tr>\n  </tbody>\n</table>\n</div>",
            "text/plain": "                                     id cartId         item  quantity\n0  3d05e16e-c764-45e2-8fa1-1afab155d978    123  Surface Pro         2"
          },
          "metadata": {},
          "output_type": "display_data"
        }
      ],
      "source": "%%sql --database acme-webstore --container cart\nSELECT c.id, c.cartId, c.item, c.quantity FROM c"
    },
    {
      "cell_type": "markdown",
      "metadata": {
        "nteract": {
          "transient": {
            "deleting": false
          }
        }
      },
      "source": "**Start the CFP Library host**\n\nNothing happens because, by default, the CFP Library starts from the current time.\n<br><br><br>\n**Stop the CFP Library host**\n\nModify the code to start from the beginning of time:\n`.WithStartTime(DateTime.MinValue.ToUniversalTime())`\n<br><br><br>\n\n**Start the CFP Library host**\n\nNow we get all the changes from the beginning of time.\n<br><br><br>\n**Stop and restart CFP Library host**\n\nNothing happens now, because the bookmark in the lease container overrides the start time.\n<br><br><br>\n**Stop the CFP Library host**\n"
    },
    {
      "cell_type": "code",
      "execution_count": null,
      "metadata": {
        "collapsed": false,
        "execution": {
          "iopub.execute_input": "2020-04-15T11:52:58.962Z",
          "iopub.status.busy": "2020-04-15T11:52:58.960Z",
          "iopub.status.idle": "2020-04-15T11:52:59.657Z",
          "shell.execute_reply": "2020-04-15T11:52:59.665Z"
        },
        "jupyter": {
          "outputs_hidden": false,
          "source_hidden": false
        },
        "nteract": {
          "transient": {
            "deleting": false
          }
        },
        "trusted": true
      },
      "outputs": [],
      "source": "# Delete and recreate the lease container\ndatabase.delete_container('lease')\nleaseContainer = database.create_container('lease', PartitionKey(path=\"/id\"))\nprint('Deleted and recreated lease container')"
    },
    {
      "cell_type": "markdown",
      "metadata": {
        "nteract": {
          "transient": {
            "deleting": false
          }
        }
      },
      "source": "**Start the CFP Library host**\n\nWithout the bookmark, processing starts again from the default or overridden start time."
    },
    {
      "cell_type": "code",
      "execution_count": 6,
      "metadata": {
        "collapsed": false,
        "execution": {
          "iopub.execute_input": "2020-06-12T20:45:36.126Z",
          "iopub.status.busy": "2020-06-12T20:45:36.110Z",
          "iopub.status.idle": "2020-06-12T20:45:36.193Z",
          "shell.execute_reply": "2020-06-12T20:45:36.219Z"
        },
        "jupyter": {
          "outputs_hidden": false,
          "source_hidden": false
        },
        "nteract": {
          "transient": {
            "deleting": false
          }
        },
        "trusted": true
      },
      "outputs": [
        {
          "name": "stdout",
          "output_type": "stream",
          "text": "Created second cart document\n"
        }
      ],
      "source": "# Add a second cart document\nsecondCartDocument = {\n    \"id\": str(uuid.uuid4()),\n    \"cartId\": \"123\",\n    \"item\": \"Surface Book\",\n    \"quantity\": 8\n}\ncartContainer.create_item(body=secondCartDocument)\nprint('Created second cart document')"
    },
    {
      "cell_type": "markdown",
      "metadata": {
        "nteract": {
          "transient": {
            "deleting": false
          }
        }
      },
      "source": "We are now capturing new documents in real-time\n\n**Stop the CFP Library host**"
    },
    {
      "cell_type": "code",
      "execution_count": null,
      "metadata": {
        "collapsed": false,
        "execution": {
          "iopub.execute_input": "2020-04-15T11:53:06.130Z",
          "iopub.status.busy": "2020-04-15T11:53:06.127Z",
          "iopub.status.idle": "2020-04-15T11:53:06.823Z",
          "shell.execute_reply": "2020-04-15T11:53:06.865Z"
        },
        "jupyter": {
          "outputs_hidden": false,
          "source_hidden": false
        },
        "nteract": {
          "transient": {
            "deleting": false
          }
        },
        "trusted": true
      },
      "outputs": [],
      "source": "# Delete and recreate the lease container\ndatabase.delete_container('lease')\nleaseContainer = database.create_container('lease', PartitionKey(path=\"/id\"))\nprint('Deleted and recreated lease container')"
    },
    {
      "cell_type": "markdown",
      "metadata": {
        "nteract": {
          "transient": {
            "deleting": false
          }
        }
      },
      "source": "**Start the CFP Library host**\n\nCorrect ordering of these changes is guaranteed at the partition key level (the cartId)"
    },
    {
      "cell_type": "code",
      "execution_count": null,
      "metadata": {
        "collapsed": false,
        "execution": {
          "iopub.execute_input": "2020-04-15T11:53:09.441Z",
          "iopub.status.busy": "2020-04-15T11:53:09.439Z",
          "iopub.status.idle": "2020-04-15T11:53:09.481Z",
          "shell.execute_reply": "2020-04-15T11:53:09.484Z"
        },
        "jupyter": {
          "outputs_hidden": false,
          "source_hidden": false
        },
        "nteract": {
          "transient": {
            "deleting": false
          }
        },
        "trusted": true
      },
      "outputs": [],
      "source": "# Modify the first document (change quantity from 2 to 3)\nfirstCartDocument['quantity'] = 3\ncartContainer.replace_item(firstCartDocument['id'], firstCartDocument)\nprint('Modified first cart document')"
    },
    {
      "cell_type": "markdown",
      "metadata": {
        "nteract": {
          "transient": {
            "deleting": false
          }
        }
      },
      "source": "We are now capturing changed documents in real-time\n\n**Stop the CFP Library host**"
    },
    {
      "cell_type": "code",
      "execution_count": null,
      "metadata": {
        "collapsed": false,
        "execution": {
          "iopub.execute_input": "2020-04-15T11:53:11.519Z",
          "iopub.status.busy": "2020-04-15T11:53:11.517Z",
          "iopub.status.idle": "2020-04-15T11:53:12.265Z",
          "shell.execute_reply": "2020-04-15T11:53:12.270Z"
        },
        "jupyter": {
          "outputs_hidden": false,
          "source_hidden": false
        },
        "nteract": {
          "transient": {
            "deleting": false
          }
        },
        "trusted": true
      },
      "outputs": [],
      "source": "# Delete and recreate the lease container\ndatabase.delete_container('lease')\nleaseContainer = database.create_container('lease', PartitionKey(path=\"/id\"))\nprint('Deleted and recreated lease container')"
    },
    {
      "cell_type": "markdown",
      "metadata": {
        "nteract": {
          "transient": {
            "deleting": false
          }
        }
      },
      "source": "**Start the CFP Library host**\n\nWe now see cart-level changes in the correct order, and without interim updates\n<br><br>"
    },
    {
      "cell_type": "code",
      "execution_count": null,
      "metadata": {
        "collapsed": false,
        "execution": {
          "iopub.execute_input": "2020-04-15T11:53:14.766Z",
          "iopub.status.busy": "2020-04-15T11:53:14.764Z",
          "iopub.status.idle": "2020-04-15T11:53:14.800Z",
          "shell.execute_reply": "2020-04-15T11:53:14.805Z"
        },
        "jupyter": {
          "outputs_hidden": false,
          "source_hidden": false
        },
        "nteract": {
          "transient": {
            "deleting": false
          }
        },
        "trusted": true
      },
      "outputs": [],
      "source": "# Delete the second document\ncartContainer.delete_item(item=secondCartDocument['id'], partition_key=secondCartDocument['cartId'])\nprint('Deleted second cart document')"
    },
    {
      "cell_type": "markdown",
      "metadata": {
        "nteract": {
          "transient": {
            "deleting": false
          }
        }
      },
      "source": "Deleted documents are not exposed by the change feed.\n\nThe solution is to leverage `ttl` (time-to-live)."
    },
    {
      "cell_type": "code",
      "execution_count": null,
      "metadata": {
        "collapsed": false,
        "execution": {
          "iopub.execute_input": "2020-04-15T11:53:16.197Z",
          "iopub.status.busy": "2020-04-15T11:53:16.196Z",
          "iopub.status.idle": "2020-04-15T11:53:16.260Z",
          "shell.execute_reply": "2020-04-15T11:53:16.264Z"
        },
        "jupyter": {
          "outputs_hidden": false,
          "source_hidden": false
        },
        "nteract": {
          "transient": {
            "deleting": false
          }
        },
        "trusted": true
      },
      "outputs": [],
      "source": "# Re-add the second cart document\ncartContainer.create_item(body=secondCartDocument)\nprint('Re-created second cart document')"
    },
    {
      "cell_type": "markdown",
      "metadata": {
        "nteract": {
          "transient": {
            "deleting": false
          }
        }
      },
      "source": "View both cart documents"
    },
    {
      "cell_type": "code",
      "execution_count": null,
      "metadata": {
        "collapsed": false,
        "execution": {
          "iopub.execute_input": "2020-04-15T11:53:21.537Z",
          "iopub.status.busy": "2020-04-15T11:53:21.533Z",
          "iopub.status.idle": "2020-04-15T11:53:21.545Z",
          "shell.execute_reply": "2020-04-15T11:53:21.547Z"
        },
        "jupyter": {
          "outputs_hidden": false,
          "source_hidden": false
        },
        "nteract": {
          "transient": {
            "deleting": false
          }
        },
        "trusted": true
      },
      "outputs": [],
      "source": "%%sql --database acme-webstore --container cart\nSELECT c.id, c.cartId, c.item, c.quantity FROM c"
    },
    {
      "cell_type": "code",
      "execution_count": null,
      "metadata": {
        "collapsed": false,
        "execution": {
          "iopub.execute_input": "2020-04-15T11:53:28.332Z",
          "iopub.status.busy": "2020-04-15T11:53:28.308Z",
          "iopub.status.idle": "2020-04-15T11:53:28.342Z",
          "shell.execute_reply": "2020-04-15T11:53:28.345Z"
        },
        "jupyter": {
          "outputs_hidden": false,
          "source_hidden": false
        },
        "nteract": {
          "transient": {
            "deleting": false
          }
        },
        "trusted": true
      },
      "outputs": [],
      "source": "# Soft-delete the second document using TTL\nsecondCartDocument['ttl'] = 3\ncartContainer.replace_item(secondCartDocument['id'], secondCartDocument)\nprint('Soft-deleted second cart document')"
    },
    {
      "cell_type": "markdown",
      "metadata": {
        "nteract": {
          "transient": {
            "deleting": false
          }
        }
      },
      "source": "Change feed exposes the update with the TTL property.\n\nContainer automatically deletes the actual document 3 seconds later."
    },
    {
      "cell_type": "code",
      "execution_count": null,
      "metadata": {
        "collapsed": false,
        "execution": {
          "iopub.execute_input": "2020-04-15T11:53:35.370Z",
          "iopub.status.busy": "2020-04-15T11:53:35.367Z",
          "iopub.status.idle": "2020-04-15T11:53:35.375Z",
          "shell.execute_reply": "2020-04-15T11:53:35.378Z"
        },
        "jupyter": {
          "outputs_hidden": false,
          "source_hidden": false
        },
        "nteract": {
          "transient": {
            "deleting": false
          }
        },
        "trusted": true
      },
      "outputs": [],
      "source": "%%sql --database acme-webstore --container cart\nSELECT c.id, c.cartId, c.item, c.quantity FROM c"
    },
    {
      "cell_type": "markdown",
      "metadata": {
        "nteract": {
          "transient": {
            "deleting": false
          }
        }
      },
      "source": "**Stop the CFP Library host**"
    },
    {
      "cell_type": "code",
      "execution_count": null,
      "metadata": {
        "collapsed": false,
        "execution": {
          "iopub.execute_input": "2020-04-15T11:53:37.243Z",
          "iopub.status.busy": "2020-04-15T11:53:37.240Z",
          "iopub.status.idle": "2020-04-15T11:53:38.035Z",
          "shell.execute_reply": "2020-04-15T11:53:38.039Z"
        },
        "jupyter": {
          "outputs_hidden": false,
          "source_hidden": false
        },
        "nteract": {
          "transient": {
            "deleting": false
          }
        },
        "trusted": true
      },
      "outputs": [],
      "source": "# Delete and recreate the lease container\ndatabase.delete_container('lease')\nleaseContainer = database.create_container('lease', PartitionKey(path=\"/id\"))\nprint('Deleted and recreated lease container')"
    },
    {
      "cell_type": "markdown",
      "metadata": {
        "nteract": {
          "transient": {
            "deleting": false
          }
        }
      },
      "source": "**Start the CFP Library host**\n\nChange feed exposes only the second version of the first (updated) item, and no longer exposes the second (deleted) item."
    }
  ],
  "metadata": {
    "kernelspec": {
      "displayName": "Python 3",
      "language": "python",
      "name": "python3"
    },
    "language_info": {
      "file_extension": "ipynb",
      "mimetype": "application/json",
      "name": "python",
      "version": "3.7"
    },
    "nteract": {
      "version": "dataExplorer 1.0"
    }
  },
  "nbformat": 4,
  "nbformat_minor": 4
}