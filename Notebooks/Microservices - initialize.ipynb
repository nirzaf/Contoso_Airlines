{
  "cells": [
    {
      "cell_type": "markdown",
      "metadata": {
        "nteract": {
          "transient": {
            "deleting": false
          }
        }
      },
      "source": "# Microservices\n## Initialize"
    },
    {
      "cell_type": "code",
      "execution_count": 1,
      "metadata": {
        "collapsed": false,
        "execution": {
          "iopub.execute_input": "2020-06-13T16:40:39.127Z",
          "iopub.status.busy": "2020-06-13T16:40:39.126Z",
          "iopub.status.idle": "2020-06-13T16:40:41.543Z",
          "shell.execute_reply": "2020-06-13T16:40:41.589Z"
        },
        "jupyter": {
          "outputs_hidden": false,
          "source_hidden": false
        },
        "nteract": {
          "transient": {
            "deleting": false
          }
        },
        "trusted": true
      },
      "outputs": [
        {
          "name": "stdout",
          "output_type": "stream",
          "text": "Created database\nCreated lease container\nCreated cart container\nCreated product container\nCreated productMeta container\n"
        }
      ],
      "source": "import azure.cosmos\nfrom azure.cosmos import PartitionKey\n\n# Delete the acme-webstore database if it already exists\ntry:\n    cosmos_client.delete_database('acme-webstore')\n    print('Deleted existing acme-webstore database')\nexcept azure.cosmos.errors.CosmosHttpResponseError as e:\n    if e.status_code != 404:\n        raise\n        \n# Create the database\ndatabase = cosmos_client.create_database('acme-webstore')\nprint('Created database')\n\n# Create the lease container\nleaseContainer = database.create_container('lease', PartitionKey(path=\"/id\"))\nprint('Created lease container')\n\n# Create the cart container partitioned on /cartId with TTL enabled\ncartContainer = database.create_container('cart', PartitionKey(path=\"/cartId\"), default_ttl=-1)\nprint('Created cart container')\n\n# Create the product container partitioned on /categoryId\nproductContainer = database.create_container('product', PartitionKey(path=\"/categoryId\"))\nprint('Created product container')\n\n# Create the productMeta container partitioned on /type\nproductMetaContainer = database.create_container('productMeta', PartitionKey(path=\"/type\"))\nprint('Created productMeta container')"
    },
    {
      "cell_type": "code",
      "execution_count": 2,
      "metadata": {
        "collapsed": true,
        "execution": {
          "iopub.execute_input": "2020-06-13T16:40:41.661Z",
          "iopub.status.busy": "2020-06-13T16:40:41.609Z",
          "iopub.status.idle": "2020-06-13T16:40:41.680Z",
          "shell.execute_reply": "2020-06-13T16:40:41.683Z"
        },
        "jupyter": {
          "outputs_hidden": false,
          "source_hidden": false
        },
        "nteract": {
          "transient": {
            "deleting": false
          }
        },
        "outputExpanded": false,
        "trusted": true
      },
      "outputs": [
        {
          "name": "stdout",
          "output_type": "stream",
          "text": "Created product category and tag documents\n"
        }
      ],
      "source": "# Create categories\nproductMetaContainer.create_item(body={\"id\": \"C-TS\", \"type\": \"category\", \"name\": \"T-shirts\"})\nproductMetaContainer.create_item(body={\"id\": \"C-SH\", \"type\": \"category\", \"name\": \"Shorts\"})\n\n# Create tags\nproductMetaContainer.create_item(body={\"id\": \"T-SU\", \"type\": \"tag\", \"name\": \"summer\"})\nproductMetaContainer.create_item(body={\"id\": \"T-US\", \"type\": \"tag\", \"name\": \"ultrasoft\"})\nproductMetaContainer.create_item(body={\"id\": \"T-AS\", \"type\": \"tag\", \"name\": \"all-season\"})\nproductMetaContainer.create_item(body={\"id\": \"T-OD\", \"type\": \"tag\", \"name\": \"outdoor\"})\nproductMetaContainer.create_item(body={\"id\": \"T-UX\", \"type\": \"tag\", \"name\": \"unisex\"})\n\nprint('Created product category and tag documents')"
    },
    {
      "cell_type": "code",
      "execution_count": 3,
      "metadata": {
        "collapsed": true,
        "execution": {
          "iopub.execute_input": "2020-06-13T16:40:41.687Z",
          "iopub.status.busy": "2020-06-13T16:40:41.686Z",
          "iopub.status.idle": "2020-06-13T16:40:41.771Z",
          "shell.execute_reply": "2020-06-13T16:40:41.776Z"
        },
        "jupyter": {
          "outputs_hidden": false,
          "source_hidden": false
        },
        "nteract": {
          "transient": {
            "deleting": false
          }
        },
        "outputExpanded": false,
        "trusted": true
      },
      "outputs": [
        {
          "name": "stdout",
          "output_type": "stream",
          "text": "Created product documents\n"
        }
      ],
      "source": "# Create products\nproductContainer.create_item(body={\n    \"id\": \"P1081\",\n    \"name\": \"V-neck\",\n    \"price\": 38.00,\n    \"categoryId\": \"C-TS\",\n    \"categoryName\": \"T-shirts\",\n    \"tags\": [\n        { \"id\": \"T-US\", \"name\": \"ultrasoft\" },\n        { \"id\": \"T-UX\", \"name\": \"unisex\" }\n    ]\n})\nproductContainer.create_item(body={\n    \"id\": \"P1082\",\n    \"name\": \"Crew neck\",\n    \"price\": 39.00,\n    \"categoryId\": \"C-TS\",\n    \"categoryName\": \"T-shirts\",\n    \"tags\": [\n        { \"id\": \"T-UX\", \"name\": \"unisex\" }\n    ]\n})\nproductContainer.create_item(body={\n    \"id\": \"P1083\",\n    \"name\": \"Bermuda shorts\",\n    \"price\": 42.00,\n    \"categoryId\": \"C-SH\",\n    \"categoryName\": \"Shorts\",\n    \"tags\": [\n        { \"id\": \"T-SU\", \"name\": \"summer\" },\n        { \"id\": \"T-OD\", \"name\": \"outdoor\" },\n        { \"id\": \"T-UX\", \"name\": \"unisex\" }\n    ]\n})\nproductContainer.create_item(body={\n    \"id\": \"P1084\",\n    \"name\": \"Cycling shorts\",\n    \"price\": 44.00,\n    \"categoryId\": \"C-SH\",\n    \"categoryName\": \"Shorts\",\n    \"tags\": [\n        { \"id\": \"T-OD\", \"name\": \"outdoor\" },\n        { \"id\": \"T-AS\", \"name\": \"unisex\" }\n    ]\n})\nproductContainer.create_item(body={\n    \"id\": \"P1085\",\n    \"name\": \"Polo collar\",\n    \"price\": 27.00,\n    \"categoryId\": \"C-TS\",\n    \"categoryName\": \"T-shirts\",\n    \"tags\": [\n        { \"id\": \"T-OD\", \"name\": \"outdoor\" },\n        { \"id\": \"T-US\", \"name\": \"ultrasoft\" }\n    ]\n})\nproductContainer.create_item(body={\n    \"id\": \"P1086\",\n    \"name\": \"Boardshorts\",\n    \"price\": 32.00,\n    \"categoryId\": \"C-SH\",\n    \"categoryName\": \"Shorts\",\n    \"tags\": [\n        { \"id\": \"T-AS\", \"name\": \"all-season\" }\n    ]\n})\nprint('Created product documents')"
    }
  ],
  "metadata": {
    "kernelspec": {
      "displayName": "Python 3",
      "language": "python",
      "name": "python3"
    },
    "language_info": {
      "file_extension": "ipynb",
      "mimetype": "application/json",
      "name": "python",
      "version": "3.7"
    },
    "nteract": {
      "version": "dataExplorer 1.0"
    }
  },
  "nbformat": 4,
  "nbformat_minor": 4
}