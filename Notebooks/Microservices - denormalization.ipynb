{
  "cells": [
    {
      "cell_type": "markdown",
      "metadata": {
        "nteract": {
          "transient": {
            "deleting": false
          }
        }
      },
      "source": "# Change Feed with Azure Functions\n## Denormalizing a Non-relational Data Model"
    },
    {
      "cell_type": "code",
      "execution_count": 1,
      "metadata": {
        "collapsed": true,
        "execution": {
          "iopub.execute_input": "2020-06-13T16:42:25.969Z",
          "iopub.status.busy": "2020-06-13T16:42:25.962Z",
          "iopub.status.idle": "2020-06-13T16:42:25.997Z",
          "shell.execute_reply": "2020-06-13T16:42:26.001Z"
        },
        "jupyter": {
          "outputs_hidden": false,
          "source_hidden": false
        },
        "nteract": {
          "transient": {
            "deleting": false
          }
        },
        "outputExpanded": false,
        "trusted": true
      },
      "outputs": [
        {
          "data": {
            "text/html": "\r\n<div>\r\n  <style type='text/css' scoped>\r\n.collapsible {\r\n  background-color: #fff;\r\n  color: #0078D4;\r\n  cursor: pointer;\r\n  padding: 10px;\r\n  border: none;\r\n  text-align: left;\r\n  outline: none;\r\n  font-size: 15px;\r\n  border-radius: 5px;\r\n  margin: 5px\r\n}\r\n\r\n.active, .collapsible:hover {\r\n  color: #4db2ff;\r\n}\r\n\r\n.content {\r\n  margin: 2px;\r\n  padding: 0 18px;\r\n  overflow: hidden;\r\n  background-color: #fff;\r\n  height: 0px;\r\n  -moz-transition: height .2s ease-out;\r\n  -ms-transition: height .2s ease-out;\r\n  -o-transition: height .2s ease-out;\r\n  -webkit-transition: height .2s ease-out;\r\n  transition: height .2s ease-out;\r\n}\r\n</style>\r\n\r\n<button type='button' class='collapsible'>▶ View Query Metrics</button>\r\n  \r\n<div class='content'>\r\n  <div class='measuringWrapper'>\r\n    <span style=\"color:#0078D4\"><b>totalExecutionTimeInMs    </b>:    0.36<br/><b>queryCompileTimeInMs    </b>:    0.09<br/><b>queryLogicalPlanBuildTimeInMs    </b>:    0.02<br/><b>queryPhysicalPlanBuildTimeInMs    </b>:    0.02<br/><b>queryOptimizationTimeInMs    </b>:    0<br/><b>VMExecutionTimeInMs    </b>:    0.08<br/><b>indexLookupTimeInMs    </b>:    0<br/><b>documentLoadTimeInMs    </b>:    0.04<br/><b>systemFunctionExecuteTimeInMs    </b>:    0<br/><b>userFunctionExecuteTimeInMs    </b>:    0<br/><b>retrievedDocumentCount    </b>:    6<br/><b>retrievedDocumentSize    </b>:    2214<br/><b>outputDocumentCount    </b>:    6<br/><b>outputDocumentSize    </b>:    996<br/><b>writeOutputTimeInMs    </b>:    0.01<br/><b>averageIndexUtilizationRation    </b>:    1<br/></span>\r\n  </div>\r\n</div>\r\n\r\n<script>\r\nvar coll = document.getElementsByClassName('collapsible');\r\nvar i;\r\n\r\nfor (i = 0; i < coll.length; i++) {\r\n  \r\n  coll[i].addEventListener('click', function() {\r\n    this.classList.toggle('active');\r\n    var content = this.nextElementSibling;\r\n    \r\n    if (content.clientHeight != 0) {\r\n      this.textContent = '▶ View Query Metrics';\r\n      content.style.height = '0px';\r\n    }\r\n    else {\r\n      this.textContent = '▼ Hide Query Metrics';\r\n      content.style.height = content.children[0].clientHeight + 'px';\r\n    }\r\n  });\r\n}\r\n</script>\r\n</div>"
          },
          "metadata": {},
          "output_type": "display_data"
        },
        {
          "data": {
            "text/html": "<div>\n<style scoped>\n    .dataframe tbody tr th:only-of-type {\n        vertical-align: middle;\n    }\n\n    .dataframe tbody tr th {\n        vertical-align: top;\n    }\n\n    .dataframe thead th {\n        text-align: right;\n    }\n</style>\n<table border=\"1\" class=\"dataframe\">\n  <thead>\n    <tr style=\"text-align: right;\">\n      <th></th>\n      <th>id</th>\n      <th>name</th>\n      <th>price</th>\n      <th>categoryId</th>\n      <th>categoryName</th>\n      <th>tags</th>\n    </tr>\n  </thead>\n  <tbody>\n    <tr>\n      <th>0</th>\n      <td>P1081</td>\n      <td>V-neck</td>\n      <td>38</td>\n      <td>C-TS</td>\n      <td>T-shirts</td>\n      <td>[{'id': 'T-US', 'name': 'ultrasoft'}, {'id': '...</td>\n    </tr>\n    <tr>\n      <th>1</th>\n      <td>P1082</td>\n      <td>Crew neck</td>\n      <td>39</td>\n      <td>C-TS</td>\n      <td>T-shirts</td>\n      <td>[{'id': 'T-UX', 'name': 'unisex'}]</td>\n    </tr>\n    <tr>\n      <th>2</th>\n      <td>P1083</td>\n      <td>Bermuda shorts</td>\n      <td>42</td>\n      <td>C-SH</td>\n      <td>Shorts</td>\n      <td>[{'id': 'T-SU', 'name': 'summer'}, {'id': 'T-O...</td>\n    </tr>\n    <tr>\n      <th>3</th>\n      <td>P1084</td>\n      <td>Cycling shorts</td>\n      <td>44</td>\n      <td>C-SH</td>\n      <td>Shorts</td>\n      <td>[{'id': 'T-OD', 'name': 'outdoor'}, {'id': 'T-...</td>\n    </tr>\n    <tr>\n      <th>4</th>\n      <td>P1085</td>\n      <td>Polo collar</td>\n      <td>27</td>\n      <td>C-TS</td>\n      <td>T-shirts</td>\n      <td>[{'id': 'T-OD', 'name': 'outdoor'}, {'id': 'T-...</td>\n    </tr>\n    <tr>\n      <th>5</th>\n      <td>P1086</td>\n      <td>Boardshorts</td>\n      <td>32</td>\n      <td>C-SH</td>\n      <td>Shorts</td>\n      <td>[{'id': 'T-AS', 'name': 'all-season'}]</td>\n    </tr>\n  </tbody>\n</table>\n</div>",
            "text/plain": "      id            name  price categoryId categoryName  \\\n0  P1081          V-neck     38       C-TS     T-shirts   \n1  P1082       Crew neck     39       C-TS     T-shirts   \n2  P1083  Bermuda shorts     42       C-SH       Shorts   \n3  P1084  Cycling shorts     44       C-SH       Shorts   \n4  P1085     Polo collar     27       C-TS     T-shirts   \n5  P1086     Boardshorts     32       C-SH       Shorts   \n\n                                                tags  \n0  [{'id': 'T-US', 'name': 'ultrasoft'}, {'id': '...  \n1                 [{'id': 'T-UX', 'name': 'unisex'}]  \n2  [{'id': 'T-SU', 'name': 'summer'}, {'id': 'T-O...  \n3  [{'id': 'T-OD', 'name': 'outdoor'}, {'id': 'T-...  \n4  [{'id': 'T-OD', 'name': 'outdoor'}, {'id': 'T-...  \n5             [{'id': 'T-AS', 'name': 'all-season'}]  "
          },
          "metadata": {},
          "output_type": "display_data"
        }
      ],
      "source": "%%sql --database acme-webstore --container product\nSELECT c.id, c.name, c.price, c.categoryId, c.categoryName, c.tags FROM c"
    },
    {
      "cell_type": "code",
      "execution_count": 2,
      "metadata": {
        "collapsed": false,
        "execution": {
          "iopub.execute_input": "2020-06-13T16:42:28.529Z",
          "iopub.status.busy": "2020-06-13T16:42:28.517Z",
          "iopub.status.idle": "2020-06-13T16:42:28.542Z",
          "shell.execute_reply": "2020-06-13T16:42:28.614Z"
        },
        "jupyter": {
          "outputs_hidden": false,
          "source_hidden": false
        },
        "nteract": {
          "transient": {
            "deleting": false
          }
        },
        "trusted": true
      },
      "outputs": [
        {
          "data": {
            "text/html": "\r\n<div>\r\n  <style type='text/css' scoped>\r\n.collapsible {\r\n  background-color: #fff;\r\n  color: #0078D4;\r\n  cursor: pointer;\r\n  padding: 10px;\r\n  border: none;\r\n  text-align: left;\r\n  outline: none;\r\n  font-size: 15px;\r\n  border-radius: 5px;\r\n  margin: 5px\r\n}\r\n\r\n.active, .collapsible:hover {\r\n  color: #4db2ff;\r\n}\r\n\r\n.content {\r\n  margin: 2px;\r\n  padding: 0 18px;\r\n  overflow: hidden;\r\n  background-color: #fff;\r\n  height: 0px;\r\n  -moz-transition: height .2s ease-out;\r\n  -ms-transition: height .2s ease-out;\r\n  -o-transition: height .2s ease-out;\r\n  -webkit-transition: height .2s ease-out;\r\n  transition: height .2s ease-out;\r\n}\r\n</style>\r\n\r\n<button type='button' class='collapsible'>▶ View Query Metrics</button>\r\n  \r\n<div class='content'>\r\n  <div class='measuringWrapper'>\r\n    <span style=\"color:#0078D4\"><b>totalExecutionTimeInMs    </b>:    0.4<br/><b>queryCompileTimeInMs    </b>:    0.09<br/><b>queryLogicalPlanBuildTimeInMs    </b>:    0.03<br/><b>queryPhysicalPlanBuildTimeInMs    </b>:    0.02<br/><b>queryOptimizationTimeInMs    </b>:    0<br/><b>VMExecutionTimeInMs    </b>:    0.1<br/><b>indexLookupTimeInMs    </b>:    0<br/><b>documentLoadTimeInMs    </b>:    0.07<br/><b>systemFunctionExecuteTimeInMs    </b>:    0<br/><b>userFunctionExecuteTimeInMs    </b>:    0<br/><b>retrievedDocumentCount    </b>:    7<br/><b>retrievedDocumentSize    </b>:    1798<br/><b>outputDocumentCount    </b>:    7<br/><b>outputDocumentSize    </b>:    369<br/><b>writeOutputTimeInMs    </b>:    0.01<br/><b>averageIndexUtilizationRation    </b>:    1<br/></span>\r\n  </div>\r\n</div>\r\n\r\n<script>\r\nvar coll = document.getElementsByClassName('collapsible');\r\nvar i;\r\n\r\nfor (i = 0; i < coll.length; i++) {\r\n  \r\n  coll[i].addEventListener('click', function() {\r\n    this.classList.toggle('active');\r\n    var content = this.nextElementSibling;\r\n    \r\n    if (content.clientHeight != 0) {\r\n      this.textContent = '▶ View Query Metrics';\r\n      content.style.height = '0px';\r\n    }\r\n    else {\r\n      this.textContent = '▼ Hide Query Metrics';\r\n      content.style.height = content.children[0].clientHeight + 'px';\r\n    }\r\n  });\r\n}\r\n</script>\r\n</div>"
          },
          "metadata": {},
          "output_type": "display_data"
        },
        {
          "data": {
            "text/html": "<div>\n<style scoped>\n    .dataframe tbody tr th:only-of-type {\n        vertical-align: middle;\n    }\n\n    .dataframe tbody tr th {\n        vertical-align: top;\n    }\n\n    .dataframe thead th {\n        text-align: right;\n    }\n</style>\n<table border=\"1\" class=\"dataframe\">\n  <thead>\n    <tr style=\"text-align: right;\">\n      <th></th>\n      <th>id</th>\n      <th>name</th>\n      <th>type</th>\n    </tr>\n  </thead>\n  <tbody>\n    <tr>\n      <th>0</th>\n      <td>C-TS</td>\n      <td>T-shirts</td>\n      <td>category</td>\n    </tr>\n    <tr>\n      <th>1</th>\n      <td>C-SH</td>\n      <td>Shorts</td>\n      <td>category</td>\n    </tr>\n    <tr>\n      <th>2</th>\n      <td>T-SU</td>\n      <td>summer</td>\n      <td>tag</td>\n    </tr>\n    <tr>\n      <th>3</th>\n      <td>T-US</td>\n      <td>ultrasoft</td>\n      <td>tag</td>\n    </tr>\n    <tr>\n      <th>4</th>\n      <td>T-AS</td>\n      <td>all-season</td>\n      <td>tag</td>\n    </tr>\n    <tr>\n      <th>5</th>\n      <td>T-OD</td>\n      <td>outdoor</td>\n      <td>tag</td>\n    </tr>\n    <tr>\n      <th>6</th>\n      <td>T-UX</td>\n      <td>unisex</td>\n      <td>tag</td>\n    </tr>\n  </tbody>\n</table>\n</div>",
            "text/plain": "     id        name      type\n0  C-TS    T-shirts  category\n1  C-SH      Shorts  category\n2  T-SU      summer       tag\n3  T-US   ultrasoft       tag\n4  T-AS  all-season       tag\n5  T-OD     outdoor       tag\n6  T-UX      unisex       tag"
          },
          "metadata": {},
          "output_type": "display_data"
        }
      ],
      "source": "%%sql --database acme-webstore --container productMeta\nSELECT c.id, c.name, c.type FROM c"
    },
    {
      "cell_type": "markdown",
      "metadata": {
        "nteract": {
          "transient": {
            "deleting": false
          }
        }
      },
      "source": "**Start the Denormalization Microservice**"
    },
    {
      "cell_type": "code",
      "execution_count": 3,
      "metadata": {
        "collapsed": false,
        "execution": {
          "iopub.execute_input": "2020-06-13T16:42:33.587Z",
          "iopub.status.busy": "2020-06-13T16:42:33.580Z",
          "iopub.status.idle": "2020-06-13T16:42:33.730Z",
          "shell.execute_reply": "2020-06-13T16:42:33.739Z"
        },
        "jupyter": {
          "outputs_hidden": false,
          "source_hidden": false
        },
        "nteract": {
          "transient": {
            "deleting": false
          }
        },
        "trusted": true
      },
      "outputs": [
        {
          "name": "stdout",
          "output_type": "stream",
          "text": "Modified category name\nModified tag name\n"
        }
      ],
      "source": "# Replace two items in the productMeta container\ndatabase = cosmos_client.get_database_client('acme-webstore')\nproductMetaContainer = database.get_container_client('productMeta')\n\n# Change category name 'Shorts' to 'Fun shorts'\ncategory = productMetaContainer.read_item('C-SH', 'category')\ncategory['name'] = 'Fun shorts'\nproductMetaContainer.replace_item('C-SH', category)\nprint('Modified category name')\n\n# Change tag name from 'outdoor' to 'outdoors'\ntag = productMetaContainer.read_item('T-OD', 'tag')\ntag['name'] = 'outdoors'\nproductMetaContainer.replace_item('T-OD', tag)\nprint('Modified tag name')"
    },
    {
      "cell_type": "code",
      "execution_count": 4,
      "metadata": {
        "collapsed": false,
        "execution": {
          "iopub.execute_input": "2020-06-13T16:42:41.144Z",
          "iopub.status.busy": "2020-06-13T16:42:41.136Z",
          "iopub.status.idle": "2020-06-13T16:42:41.234Z",
          "shell.execute_reply": "2020-06-13T16:42:41.241Z"
        },
        "jupyter": {
          "outputs_hidden": false,
          "source_hidden": false
        },
        "nteract": {
          "transient": {
            "deleting": false
          }
        },
        "trusted": true
      },
      "outputs": [
        {
          "data": {
            "text/html": "\r\n<div>\r\n  <style type='text/css' scoped>\r\n.collapsible {\r\n  background-color: #fff;\r\n  color: #0078D4;\r\n  cursor: pointer;\r\n  padding: 10px;\r\n  border: none;\r\n  text-align: left;\r\n  outline: none;\r\n  font-size: 15px;\r\n  border-radius: 5px;\r\n  margin: 5px\r\n}\r\n\r\n.active, .collapsible:hover {\r\n  color: #4db2ff;\r\n}\r\n\r\n.content {\r\n  margin: 2px;\r\n  padding: 0 18px;\r\n  overflow: hidden;\r\n  background-color: #fff;\r\n  height: 0px;\r\n  -moz-transition: height .2s ease-out;\r\n  -ms-transition: height .2s ease-out;\r\n  -o-transition: height .2s ease-out;\r\n  -webkit-transition: height .2s ease-out;\r\n  transition: height .2s ease-out;\r\n}\r\n</style>\r\n\r\n<button type='button' class='collapsible'>▶ View Query Metrics</button>\r\n  \r\n<div class='content'>\r\n  <div class='measuringWrapper'>\r\n    <span style=\"color:#0078D4\"><b>totalExecutionTimeInMs    </b>:    0.49<br/><b>queryCompileTimeInMs    </b>:    0.11<br/><b>queryLogicalPlanBuildTimeInMs    </b>:    0.06<br/><b>queryPhysicalPlanBuildTimeInMs    </b>:    0.03<br/><b>queryOptimizationTimeInMs    </b>:    0<br/><b>VMExecutionTimeInMs    </b>:    0.09<br/><b>indexLookupTimeInMs    </b>:    0<br/><b>documentLoadTimeInMs    </b>:    0.06<br/><b>systemFunctionExecuteTimeInMs    </b>:    0<br/><b>userFunctionExecuteTimeInMs    </b>:    0<br/><b>retrievedDocumentCount    </b>:    7<br/><b>retrievedDocumentSize    </b>:    1803<br/><b>outputDocumentCount    </b>:    7<br/><b>outputDocumentSize    </b>:    374<br/><b>writeOutputTimeInMs    </b>:    0.01<br/><b>averageIndexUtilizationRation    </b>:    1<br/></span>\r\n  </div>\r\n</div>\r\n\r\n<script>\r\nvar coll = document.getElementsByClassName('collapsible');\r\nvar i;\r\n\r\nfor (i = 0; i < coll.length; i++) {\r\n  \r\n  coll[i].addEventListener('click', function() {\r\n    this.classList.toggle('active');\r\n    var content = this.nextElementSibling;\r\n    \r\n    if (content.clientHeight != 0) {\r\n      this.textContent = '▶ View Query Metrics';\r\n      content.style.height = '0px';\r\n    }\r\n    else {\r\n      this.textContent = '▼ Hide Query Metrics';\r\n      content.style.height = content.children[0].clientHeight + 'px';\r\n    }\r\n  });\r\n}\r\n</script>\r\n</div>"
          },
          "metadata": {},
          "output_type": "display_data"
        },
        {
          "data": {
            "text/html": "<div>\n<style scoped>\n    .dataframe tbody tr th:only-of-type {\n        vertical-align: middle;\n    }\n\n    .dataframe tbody tr th {\n        vertical-align: top;\n    }\n\n    .dataframe thead th {\n        text-align: right;\n    }\n</style>\n<table border=\"1\" class=\"dataframe\">\n  <thead>\n    <tr style=\"text-align: right;\">\n      <th></th>\n      <th>id</th>\n      <th>name</th>\n      <th>type</th>\n    </tr>\n  </thead>\n  <tbody>\n    <tr>\n      <th>0</th>\n      <td>C-TS</td>\n      <td>T-shirts</td>\n      <td>category</td>\n    </tr>\n    <tr>\n      <th>1</th>\n      <td>C-SH</td>\n      <td>Fun shorts</td>\n      <td>category</td>\n    </tr>\n    <tr>\n      <th>2</th>\n      <td>T-SU</td>\n      <td>summer</td>\n      <td>tag</td>\n    </tr>\n    <tr>\n      <th>3</th>\n      <td>T-US</td>\n      <td>ultrasoft</td>\n      <td>tag</td>\n    </tr>\n    <tr>\n      <th>4</th>\n      <td>T-AS</td>\n      <td>all-season</td>\n      <td>tag</td>\n    </tr>\n    <tr>\n      <th>5</th>\n      <td>T-OD</td>\n      <td>outdoors</td>\n      <td>tag</td>\n    </tr>\n    <tr>\n      <th>6</th>\n      <td>T-UX</td>\n      <td>unisex</td>\n      <td>tag</td>\n    </tr>\n  </tbody>\n</table>\n</div>",
            "text/plain": "     id        name      type\n0  C-TS    T-shirts  category\n1  C-SH  Fun shorts  category\n2  T-SU      summer       tag\n3  T-US   ultrasoft       tag\n4  T-AS  all-season       tag\n5  T-OD    outdoors       tag\n6  T-UX      unisex       tag"
          },
          "metadata": {},
          "output_type": "display_data"
        }
      ],
      "source": "%%sql --database acme-webstore --container productMeta\nSELECT c.id, c.name, c.type FROM c"
    },
    {
      "cell_type": "code",
      "execution_count": 5,
      "metadata": {
        "collapsed": false,
        "execution": {
          "iopub.execute_input": "2020-06-13T16:42:48.331Z",
          "iopub.status.busy": "2020-06-13T16:42:48.322Z",
          "iopub.status.idle": "2020-06-13T16:42:48.346Z",
          "shell.execute_reply": "2020-06-13T16:42:48.352Z"
        },
        "jupyter": {
          "outputs_hidden": false,
          "source_hidden": false
        },
        "nteract": {
          "transient": {
            "deleting": false
          }
        },
        "trusted": true
      },
      "outputs": [
        {
          "data": {
            "text/html": "\r\n<div>\r\n  <style type='text/css' scoped>\r\n.collapsible {\r\n  background-color: #fff;\r\n  color: #0078D4;\r\n  cursor: pointer;\r\n  padding: 10px;\r\n  border: none;\r\n  text-align: left;\r\n  outline: none;\r\n  font-size: 15px;\r\n  border-radius: 5px;\r\n  margin: 5px\r\n}\r\n\r\n.active, .collapsible:hover {\r\n  color: #4db2ff;\r\n}\r\n\r\n.content {\r\n  margin: 2px;\r\n  padding: 0 18px;\r\n  overflow: hidden;\r\n  background-color: #fff;\r\n  height: 0px;\r\n  -moz-transition: height .2s ease-out;\r\n  -ms-transition: height .2s ease-out;\r\n  -o-transition: height .2s ease-out;\r\n  -webkit-transition: height .2s ease-out;\r\n  transition: height .2s ease-out;\r\n}\r\n</style>\r\n\r\n<button type='button' class='collapsible'>▶ View Query Metrics</button>\r\n  \r\n<div class='content'>\r\n  <div class='measuringWrapper'>\r\n    <span style=\"color:#0078D4\"><b>totalExecutionTimeInMs    </b>:    0.61<br/><b>queryCompileTimeInMs    </b>:    0.14<br/><b>queryLogicalPlanBuildTimeInMs    </b>:    0.04<br/><b>queryPhysicalPlanBuildTimeInMs    </b>:    0.04<br/><b>queryOptimizationTimeInMs    </b>:    0<br/><b>VMExecutionTimeInMs    </b>:    0.13<br/><b>indexLookupTimeInMs    </b>:    0<br/><b>documentLoadTimeInMs    </b>:    0.07<br/><b>systemFunctionExecuteTimeInMs    </b>:    0<br/><b>userFunctionExecuteTimeInMs    </b>:    0<br/><b>retrievedDocumentCount    </b>:    6<br/><b>retrievedDocumentSize    </b>:    2229<br/><b>outputDocumentCount    </b>:    6<br/><b>outputDocumentSize    </b>:    1011<br/><b>writeOutputTimeInMs    </b>:    0.01<br/><b>averageIndexUtilizationRation    </b>:    1<br/></span>\r\n  </div>\r\n</div>\r\n\r\n<script>\r\nvar coll = document.getElementsByClassName('collapsible');\r\nvar i;\r\n\r\nfor (i = 0; i < coll.length; i++) {\r\n  \r\n  coll[i].addEventListener('click', function() {\r\n    this.classList.toggle('active');\r\n    var content = this.nextElementSibling;\r\n    \r\n    if (content.clientHeight != 0) {\r\n      this.textContent = '▶ View Query Metrics';\r\n      content.style.height = '0px';\r\n    }\r\n    else {\r\n      this.textContent = '▼ Hide Query Metrics';\r\n      content.style.height = content.children[0].clientHeight + 'px';\r\n    }\r\n  });\r\n}\r\n</script>\r\n</div>"
          },
          "metadata": {},
          "output_type": "display_data"
        },
        {
          "data": {
            "text/html": "<div>\n<style scoped>\n    .dataframe tbody tr th:only-of-type {\n        vertical-align: middle;\n    }\n\n    .dataframe tbody tr th {\n        vertical-align: top;\n    }\n\n    .dataframe thead th {\n        text-align: right;\n    }\n</style>\n<table border=\"1\" class=\"dataframe\">\n  <thead>\n    <tr style=\"text-align: right;\">\n      <th></th>\n      <th>id</th>\n      <th>name</th>\n      <th>price</th>\n      <th>categoryId</th>\n      <th>categoryName</th>\n      <th>tags</th>\n    </tr>\n  </thead>\n  <tbody>\n    <tr>\n      <th>0</th>\n      <td>P1081</td>\n      <td>V-neck</td>\n      <td>38</td>\n      <td>C-TS</td>\n      <td>T-shirts</td>\n      <td>[{'id': 'T-US', 'name': 'ultrasoft'}, {'id': '...</td>\n    </tr>\n    <tr>\n      <th>1</th>\n      <td>P1082</td>\n      <td>Crew neck</td>\n      <td>39</td>\n      <td>C-TS</td>\n      <td>T-shirts</td>\n      <td>[{'id': 'T-UX', 'name': 'unisex'}]</td>\n    </tr>\n    <tr>\n      <th>2</th>\n      <td>P1083</td>\n      <td>Bermuda shorts</td>\n      <td>42</td>\n      <td>C-SH</td>\n      <td>Fun shorts</td>\n      <td>[{'id': 'T-SU', 'name': 'summer'}, {'id': 'T-O...</td>\n    </tr>\n    <tr>\n      <th>3</th>\n      <td>P1084</td>\n      <td>Cycling shorts</td>\n      <td>44</td>\n      <td>C-SH</td>\n      <td>Fun shorts</td>\n      <td>[{'id': 'T-OD', 'name': 'outdoors'}, {'id': 'T...</td>\n    </tr>\n    <tr>\n      <th>4</th>\n      <td>P1085</td>\n      <td>Polo collar</td>\n      <td>27</td>\n      <td>C-TS</td>\n      <td>T-shirts</td>\n      <td>[{'id': 'T-OD', 'name': 'outdoors'}, {'id': 'T...</td>\n    </tr>\n    <tr>\n      <th>5</th>\n      <td>P1086</td>\n      <td>Boardshorts</td>\n      <td>32</td>\n      <td>C-SH</td>\n      <td>Fun shorts</td>\n      <td>[{'id': 'T-AS', 'name': 'all-season'}]</td>\n    </tr>\n  </tbody>\n</table>\n</div>",
            "text/plain": "      id            name  price categoryId categoryName  \\\n0  P1081          V-neck     38       C-TS     T-shirts   \n1  P1082       Crew neck     39       C-TS     T-shirts   \n2  P1083  Bermuda shorts     42       C-SH   Fun shorts   \n3  P1084  Cycling shorts     44       C-SH   Fun shorts   \n4  P1085     Polo collar     27       C-TS     T-shirts   \n5  P1086     Boardshorts     32       C-SH   Fun shorts   \n\n                                                tags  \n0  [{'id': 'T-US', 'name': 'ultrasoft'}, {'id': '...  \n1                 [{'id': 'T-UX', 'name': 'unisex'}]  \n2  [{'id': 'T-SU', 'name': 'summer'}, {'id': 'T-O...  \n3  [{'id': 'T-OD', 'name': 'outdoors'}, {'id': 'T...  \n4  [{'id': 'T-OD', 'name': 'outdoors'}, {'id': 'T...  \n5             [{'id': 'T-AS', 'name': 'all-season'}]  "
          },
          "metadata": {},
          "output_type": "display_data"
        }
      ],
      "source": "%%sql --database acme-webstore --container product\nSELECT c.id, c.name, c.price, c.categoryId, c.categoryName, c.tags FROM c"
    }
  ],
  "metadata": {
    "kernelspec": {
      "displayName": "Python 3",
      "language": "python",
      "name": "python3"
    },
    "language_info": {
      "file_extension": "ipynb",
      "mimetype": "application/json",
      "name": "python",
      "version": "3.7"
    },
    "nteract": {
      "version": "dataExplorer 1.0"
    }
  },
  "nbformat": 4,
  "nbformat_minor": 4
}